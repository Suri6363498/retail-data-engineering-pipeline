{
  "nbformat": 4,
  "nbformat_minor": 0,
  "metadata": {
    "colab": {
      "provenance": []
    },
    "kernelspec": {
      "name": "python3",
      "display_name": "Python 3"
    },
    "language_info": {
      "name": "python"
    }
  },
  "cells": [
    {
      "cell_type": "code",
      "execution_count": 1,
      "metadata": {
        "colab": {
          "base_uri": "https://localhost:8080/",
          "height": 0
        },
        "id": "U_iSI8K_Iy2u",
        "outputId": "5e9f6005-87d7-408f-d2bc-298eafd779a5"
      },
      "outputs": [
        {
          "output_type": "stream",
          "name": "stdout",
          "text": [
            "Requirement already satisfied: pyspark in /usr/local/lib/python3.11/dist-packages (3.5.1)\n",
            "Requirement already satisfied: py4j==0.10.9.7 in /usr/local/lib/python3.11/dist-packages (from pyspark) (0.10.9.7)\n",
            "Mounted at /content/drive\n"
          ]
        }
      ],
      "source": [
        "# Install PySpark\n",
        "!pip install pyspark\n",
        "\n",
        "# Mount Google Drive\n",
        "from google.colab import drive\n",
        "drive.mount('/content/drive')\n"
      ]
    },
    {
      "cell_type": "code",
      "source": [
        "from pyspark.sql import SparkSession\n",
        "spark = SparkSession.builder.appName(\"RetailPipeline\").getOrCreate()\n",
        "\n",
        "# Set file paths (adjust based on your Drive)\n",
        "base_path = \"/content/drive/MyDrive/Retail-Data-Pipeline/\"\n",
        "\n",
        "sales_df = spark.read.option(\"header\", \"true\").csv(base_path + \"sales.csv\", inferSchema=True)\n",
        "customers_df = spark.read.option(\"header\", \"true\").csv(base_path + \"customers.csv\", inferSchema=True)\n",
        "products_df = spark.read.option(\"header\", \"true\").csv(base_path + \"products.csv\", inferSchema=True)\n",
        "\n",
        "# Show data\n",
        "sales_df.show()\n",
        "customers_df.show()\n",
        "products_df.show()\n"
      ],
      "metadata": {
        "colab": {
          "base_uri": "https://localhost:8080/",
          "height": 0
        },
        "id": "kSZUPyYeJh1u",
        "outputId": "953579aa-b6f7-4545-ae41-046ac0f0ec43"
      },
      "execution_count": 2,
      "outputs": [
        {
          "output_type": "stream",
          "name": "stdout",
          "text": [
            "+-------+-----------+----------+--------+-----+----------+\n",
            "|sale_id|customer_id|product_id|quantity|price| sale_date|\n",
            "+-------+-----------+----------+--------+-----+----------+\n",
            "|      1|        101|       201|       2|  500|2023-01-01|\n",
            "|      2|        102|       202|       1| 1500|2023-01-02|\n",
            "|      3|        103|       203|       5|  200|2023-01-03|\n",
            "|      4|        101|       204|       3|  300|2023-01-04|\n",
            "|      5|        104|       205|       2| 1000|2023-01-05|\n",
            "|      6|        105|       206|       4|  250|2023-01-06|\n",
            "|      7|        102|       202|       1| 1500|2023-01-07|\n",
            "|      8|        101|       203|       2|  200|2023-01-08|\n",
            "|      9|        106|       204|       3|  300|2023-01-09|\n",
            "|     10|        107|       201|       2|  500|2023-01-10|\n",
            "+-------+-----------+----------+--------+-----+----------+\n",
            "\n",
            "+-----------+-----+------+\n",
            "|customer_id| name|region|\n",
            "+-----------+-----+------+\n",
            "|        101| Amit| North|\n",
            "|        102|Sneha| South|\n",
            "|        103|Rahul|  East|\n",
            "|        104|Priya|  West|\n",
            "|        105| John| South|\n",
            "|        106| Sara| North|\n",
            "|        107|  Ali|  West|\n",
            "+-----------+-----+------+\n",
            "\n",
            "+----------+------------+-----------+\n",
            "|product_id|product_name|   category|\n",
            "+----------+------------+-----------+\n",
            "|       201|      Laptop|Electronics|\n",
            "|       202|       Phone|Electronics|\n",
            "|       203|     Charger|Accessories|\n",
            "|       204|       Mouse|Accessories|\n",
            "|       205|      Tablet|Electronics|\n",
            "|       206|    Keyboard|Accessories|\n",
            "+----------+------------+-----------+\n",
            "\n"
          ]
        }
      ]
    },
    {
      "cell_type": "code",
      "source": [
        "from pyspark.sql.functions import col, expr\n",
        "\n",
        "# Join dataframes\n",
        "sales_with_customers = sales_df.join(customers_df, on=\"customer_id\", how=\"left\")\n",
        "full_data = sales_with_customers.join(products_df, on=\"product_id\", how=\"left\")\n",
        "\n",
        "# Add a calculated column: total_amount = quantity * price\n",
        "full_data = full_data.withColumn(\"total_amount\", col(\"quantity\") * col(\"price\"))\n",
        "\n",
        "# Show final result\n",
        "full_data.select(\"sale_id\", \"name\", \"region\", \"product_name\", \"category\", \"quantity\", \"price\", \"total_amount\", \"sale_date\").show()\n"
      ],
      "metadata": {
        "colab": {
          "base_uri": "https://localhost:8080/",
          "height": 0
        },
        "id": "Of58E2FaJvvS",
        "outputId": "1286a94e-2a9e-412c-d54a-b3d4cab1da6b"
      },
      "execution_count": 3,
      "outputs": [
        {
          "output_type": "stream",
          "name": "stdout",
          "text": [
            "+-------+-----+------+------------+-----------+--------+-----+------------+----------+\n",
            "|sale_id| name|region|product_name|   category|quantity|price|total_amount| sale_date|\n",
            "+-------+-----+------+------------+-----------+--------+-----+------------+----------+\n",
            "|      1| Amit| North|      Laptop|Electronics|       2|  500|        1000|2023-01-01|\n",
            "|      2|Sneha| South|       Phone|Electronics|       1| 1500|        1500|2023-01-02|\n",
            "|      3|Rahul|  East|     Charger|Accessories|       5|  200|        1000|2023-01-03|\n",
            "|      4| Amit| North|       Mouse|Accessories|       3|  300|         900|2023-01-04|\n",
            "|      5|Priya|  West|      Tablet|Electronics|       2| 1000|        2000|2023-01-05|\n",
            "|      6| John| South|    Keyboard|Accessories|       4|  250|        1000|2023-01-06|\n",
            "|      7|Sneha| South|       Phone|Electronics|       1| 1500|        1500|2023-01-07|\n",
            "|      8| Amit| North|     Charger|Accessories|       2|  200|         400|2023-01-08|\n",
            "|      9| Sara| North|       Mouse|Accessories|       3|  300|         900|2023-01-09|\n",
            "|     10|  Ali|  West|      Laptop|Electronics|       2|  500|        1000|2023-01-10|\n",
            "+-------+-----+------+------------+-----------+--------+-----+------------+----------+\n",
            "\n"
          ]
        }
      ]
    },
    {
      "cell_type": "code",
      "source": [
        "# Save as CSV\n",
        "output_path = base_path + \"processed_sales.csv\"\n",
        "full_data.write.option(\"header\", \"true\").mode(\"overwrite\").csv(output_path)\n"
      ],
      "metadata": {
        "id": "3wdGKtsYJ1pK"
      },
      "execution_count": 4,
      "outputs": []
    }
  ]
}